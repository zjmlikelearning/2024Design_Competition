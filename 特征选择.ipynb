{
 "cells": [
  {
   "cell_type": "code",
   "execution_count": 2,
   "metadata": {},
   "outputs": [],
   "source": [
    "import pandas as pd\n",
    "from sklearn.feature_selection import VarianceThreshold\n",
    "import pandas as pd\n",
    "from sklearn.feature_selection import RFECV\n",
    "from sklearn.ensemble import RandomForestRegressor\n",
    "from sklearn.impute import SimpleImputer\n",
    "from sklearn.decomposition import PCA\n",
    "from sklearn.preprocessing import StandardScaler\n",
    "from keras.models import Sequential\n",
    "from keras.layers import Dense\n",
    "import numpy as np\n",
    "import warnings\n",
    "warnings.filterwarnings(\"ignore\")\n"
   ]
  },
  {
   "cell_type": "code",
   "execution_count": null,
   "metadata": {},
   "outputs": [],
   "source": [
    "# 村数据不能选的特征['\"zccunjitiarea\"', '\"chengbaodiarea\"', '\"liangshiarea\"', '\"year\"', '\"vid\"']\n",
    "'''\n",
    " 户数据不能选的特征['\"chengbaogd\"', '\"jygdarea\"', '\"jycbgdarea\"', '\"jyczgdarea\"', \n",
    " '\"jynhgdarea\"', '\"c201b\"', '\"zcgdksnum\"', '\"c202b\"', '\"zcareahetong\"', \n",
    " '\"c208b\"', '\"zcareaqixian\"', '\"c209b\"', '\"jitizcarea\"', '\"c210b\"', \n",
    " '\"jitizcareacgb\"', '\"c211b\"', '\"jitizcareazj\"', '\"c212b\"', '\"zcareashouzu\"',\n",
    " '\"c213b\"', '\"zjxingshi\"', '\"c214b\"', '\"c_chengbaogd\"', '\"x_chengbaogd\"', '\"s_chengbaogd\"', '\"cychengbaogd\"']\n",
    "'''"
   ]
  },
  {
   "cell_type": "markdown",
   "metadata": {},
   "source": [
    "# 村数据流转面积影响因素探究"
   ]
  },
  {
   "cell_type": "markdown",
   "metadata": {},
   "source": [
    "## 特征选择"
   ]
  },
  {
   "cell_type": "code",
   "execution_count": 3,
   "metadata": {},
   "outputs": [],
   "source": [
    "# 读取数据\n",
    "ground_data = pd.read_csv(r'C:\\Users\\12045\\Desktop\\地块数据(预处理后).csv')\n",
    "X = ground_data.drop(columns=['zcgdarea'])\n",
    "y = ground_data['zcgdarea']"
   ]
  },
  {
   "cell_type": "code",
   "execution_count": 4,
   "metadata": {},
   "outputs": [
    {
     "name": "stdout",
     "output_type": "stream",
     "text": [
      "特征子集 - 方差选择法:\n",
      "Index(['hid', 'year', 'chengbaogd', 'chengbaogdks', 'jygdarea', 'jycbgdarea',\n",
      "       'jyczgdarea', 'jynhgdarea', 'jygdnum', 'jygdnum1', 'jygdnum5',\n",
      "       'zcqiyearea', 'zchezuoshearea', 'zccunjitiarea', 'zcnonghuarea',\n",
      "       'zcareahetong', 'zcareaqixian', 'jitizcarea', 'jitizcareacgb', 'zujin',\n",
      "       'cbdfangwei', 'zrdfangwei', 'cbdarea', 'zrdarea', 'cbdcwjuli',\n",
      "       'zrdcwjuli', 'cbddljuli', 'zrddljuli', 'zrdyear', 'zrdsyqixian',\n",
      "       'zrdhetong', 'zrdzuyue', 'd302a', 'd302b', 'd303a', 'd303b', 'd306a',\n",
      "       'd306b', 'd307a', 'd307b', 'd308a', 'd308b', 'd309b', 'd318a', 'd318b',\n",
      "       'd327a', 'd327b', 'd330a', 'd330b', 'd332a', 'd332b', 'c_chengbaogd',\n",
      "       'x_chengbaogd', 's_chengbaogd', 'cychengbaogd'],\n",
      "      dtype='object')\n"
     ]
    }
   ],
   "source": [
    "# 方差选择法 (Variance Thresholding)\n",
    "threshold = 0.5\n",
    "selector_variance = VarianceThreshold(threshold=threshold)\n",
    "X_selected_variance = selector_variance.fit_transform(X)\n",
    "selected_features_variance = X.columns[selector_variance.get_support()]\n",
    "\n",
    "# 输出特征子集\n",
    "print(\"特征子集 - 方差选择法:\")\n",
    "print(selected_features_variance)\n"
   ]
  },
  {
   "cell_type": "code",
   "execution_count": 5,
   "metadata": {},
   "outputs": [
    {
     "name": "stdout",
     "output_type": "stream",
     "text": [
      "特征子集 - L1正则化:\n",
      "Index(['hid', 'jygdnum', 'jygdnum1', 'zcqiyearea', 'zccunjitiarea',\n",
      "       'zcnonghuarea', 'zcareahetong', 'zcareaqixian', 'jitizcarea',\n",
      "       'jitizcareacgb', 'zrdhetong'],\n",
      "      dtype='object')\n",
      "特征子集列数: 11\n"
     ]
    }
   ],
   "source": [
    "# L1正则法\n",
    "from sklearn.linear_model import Lasso\n",
    "\n",
    "lasso = Lasso(alpha=0.1)\n",
    "lasso.fit(X, y)\n",
    "\n",
    "# 获取系数非零的特征\n",
    "selected_features_lasso = X.columns[lasso.coef_ != 0]\n",
    "# 输出选出的特征 - L1正则化\n",
    "print(\"特征子集 - L1正则化:\")\n",
    "print(selected_features_lasso)\n",
    "print(\"特征子集列数:\", len(selected_features_lasso))"
   ]
  },
  {
   "cell_type": "code",
   "execution_count": 6,
   "metadata": {},
   "outputs": [
    {
     "name": "stdout",
     "output_type": "stream",
     "text": [
      "特征子集 - 互信息:\n",
      "Index(['zujin', 'zcnonghuarea', 'jitizcareacgb', 'zcareahetong', 'jitizcarea'], dtype='object')\n",
      "特征子集列数: 5\n"
     ]
    }
   ],
   "source": [
    "# 互信息\n",
    "from sklearn.feature_selection import mutual_info_regression\n",
    "\n",
    "# 计算特征与目标变量的互信息\n",
    "mi_scores = mutual_info_regression(X, y)\n",
    "\n",
    "# 选择互信息得分较高的特征\n",
    "selected_features_mi = X.columns[np.argsort(mi_scores)[-5:]]\n",
    "# 输出选出的特征 - 互信息\n",
    "print(\"特征子集 - 互信息:\")\n",
    "print(selected_features_mi)\n",
    "print(\"特征子集列数:\", len(selected_features_mi))"
   ]
  },
  {
   "cell_type": "code",
   "execution_count": 7,
   "metadata": {},
   "outputs": [
    {
     "name": "stdout",
     "output_type": "stream",
     "text": [
      "\n",
      "特征子集 - 基于随机森林的方法:\n",
      "Index(['zccunjitiarea', 'zcnonghuarea', 'zcareahetong', 'jitizcarea',\n",
      "       'jitizcareacgb', 'zujin', 'shifouzc', 'cychengbaogd'],\n",
      "      dtype='object')\n",
      "特征子集列数: 8\n"
     ]
    }
   ],
   "source": [
    "# 创建随机森林回归模型并拟合填充后的数据\n",
    "model_tree = RandomForestRegressor()\n",
    "model_tree.fit(X, y)\n",
    "\n",
    "# 获取特征重要性\n",
    "feature_importances = model_tree.feature_importances_\n",
    "\n",
    "# 选择重要性较高的特征\n",
    "threshold_tree = 0.01  # 假设选择重要性大于0.01的特征\n",
    "selected_features_tree = X.columns[feature_importances > threshold_tree]\n",
    "\n",
    "# 输出特征子集\n",
    "print(\"\\n特征子集 - 基于随机森林的方法:\")\n",
    "print(selected_features_tree)\n",
    "\n",
    "# 输出特征子集的列数\n",
    "print(\"特征子集列数:\", len(selected_features_tree))\n"
   ]
  },
  {
   "cell_type": "code",
   "execution_count": 8,
   "metadata": {},
   "outputs": [
    {
     "name": "stdout",
     "output_type": "stream",
     "text": [
      "\n",
      "特征子集 - 基于相关系数法的方法:\n",
      "['jynhgdarea', 'jygdnum5', 'zcareahetong', 'jitizcarea', 'jitizcareacgb', 'zrdfangwei', 'cbdcwjuli', 'zrdcwjuli', 'zrdgaosulu', 'zrdguangai', 'zrdfeili', 'zrdwrxiufu', 'shifouzc', 'zrdsyqixian', 'zrdjyptreason2', 'd303b', 'd306b', 'd307b', 'd308b', 'd309b', 'd312b', 'd314a', 'd314b', 'd315b', 'd316b', 'd317a', 'd317b', 'd320a', 'd322a', 'd322b', 'd323a', 'd323b', 'd324a', 'd324b', 'd325a', 'd327b', 'd328b', 'd329b', 'd330b', 'd332b', 'd335b', 'x_chengbaogd', 's_chengbaogd', 'cychengbaogd']\n",
      "特征子集列数: 44\n"
     ]
    }
   ],
   "source": [
    "# 使用相关系数法进行特征选择\n",
    "# 这里以绝对值相关系数大于阈值作为特征选择标准\n",
    "threshold_correlation = 0.5  # 设定阈值\n",
    "correlation_matrix = X.corr().abs()\n",
    "upper_triangle = correlation_matrix.where(np.triu(np.ones(correlation_matrix.shape), k=1).astype(bool))\n",
    "selected_features_correlation = [column for column in upper_triangle.columns if any(upper_triangle[column] > threshold_correlation)]\n",
    "print(\"\\n特征子集 - 基于相关系数法的方法:\")\n",
    "print(selected_features_correlation)\n",
    "print(\"特征子集列数:\", len(selected_features_correlation))"
   ]
  },
  {
   "cell_type": "code",
   "execution_count": 9,
   "metadata": {},
   "outputs": [
    {
     "name": "stdout",
     "output_type": "stream",
     "text": [
      "重叠次数大于等于2的特征子集:\n",
      "hid\n",
      "year\n",
      "chengbaogd\n",
      "chengbaogdks\n",
      "jygdarea\n",
      "jycbgdarea\n",
      "jyczgdarea\n",
      "jynhgdarea\n",
      "jygdnum\n",
      "jygdnum1\n",
      "jygdnum5\n",
      "zcqiyearea\n",
      "zchezuoshearea\n",
      "zccunjitiarea\n",
      "zcnonghuarea\n",
      "zcareahetong\n",
      "zcareaqixian\n",
      "jitizcarea\n",
      "jitizcareacgb\n",
      "zujin\n",
      "cbdfangwei\n",
      "zrdfangwei\n",
      "cbdarea\n",
      "zrdarea\n",
      "cbdcwjuli\n",
      "zrdcwjuli\n",
      "cbddljuli\n",
      "zrddljuli\n",
      "zrdyear\n",
      "zrdsyqixian\n",
      "zrdhetong\n",
      "zrdzuyue\n",
      "d302a\n",
      "d302b\n",
      "d303a\n",
      "d303b\n",
      "d306a\n",
      "d306b\n",
      "d307a\n",
      "d307b\n",
      "d308a\n",
      "d308b\n",
      "d309b\n",
      "d318a\n",
      "d318b\n",
      "d327a\n",
      "d327b\n",
      "d330a\n",
      "d330b\n",
      "d332a\n",
      "d332b\n",
      "c_chengbaogd\n",
      "x_chengbaogd\n",
      "s_chengbaogd\n",
      "cychengbaogd\n",
      "shifouzc\n",
      "zrdgaosulu\n",
      "zrdguangai\n",
      "zrdfeili\n",
      "zrdwrxiufu\n",
      "zrdjyptreason2\n",
      "d312b\n",
      "d314a\n",
      "d314b\n",
      "d315b\n",
      "d316b\n",
      "d317a\n",
      "d317b\n",
      "d320a\n",
      "d322a\n",
      "d322b\n",
      "d323a\n",
      "d323b\n",
      "d324a\n",
      "d324b\n",
      "d325a\n",
      "d328b\n",
      "d329b\n",
      "d335b\n",
      "重叠次数: 1\n"
     ]
    }
   ],
   "source": [
    "# 将所有特征子集整合到一个集合中\n",
    "all_feature_sets = []\n",
    "\n",
    "all_feature_sets.extend(selected_features_variance)\n",
    "all_feature_sets.extend(selected_features_tree)\n",
    "all_feature_sets.extend(selected_features_lasso)\n",
    "all_feature_sets.extend(selected_features_correlation)\n",
    "all_feature_sets.extend(selected_features_mi)\n",
    "\n",
    "# 计算每个特征子集的重叠次数\n",
    "overlap_counts = {}\n",
    "for feature_set in all_feature_sets:\n",
    "    if feature_set in overlap_counts:\n",
    "        overlap_counts[feature_set] += 1\n",
    "    else:\n",
    "        overlap_counts[feature_set] = 1\n",
    "\n",
    "# 找到重叠次数大于等于1的特征子集\n",
    "min_overlap_count = 1\n",
    "selected_feature_sets = [feature_set for feature_set, count in overlap_counts.items() if count >= min_overlap_count]\n",
    "\n",
    "print(\"重叠次数大于等于2的特征子集:\")\n",
    "for feature_set in selected_feature_sets:\n",
    "    print(feature_set)\n",
    "print(\"重叠次数:\", min_overlap_count)\n",
    "\n"
   ]
  }
 ],
 "metadata": {
  "kernelspec": {
   "display_name": "Python 3",
   "language": "python",
   "name": "python3"
  },
  "language_info": {
   "codemirror_mode": {
    "name": "ipython",
    "version": 3
   },
   "file_extension": ".py",
   "mimetype": "text/x-python",
   "name": "python",
   "nbconvert_exporter": "python",
   "pygments_lexer": "ipython3",
   "version": "3.11.7"
  }
 },
 "nbformat": 4,
 "nbformat_minor": 2
}
