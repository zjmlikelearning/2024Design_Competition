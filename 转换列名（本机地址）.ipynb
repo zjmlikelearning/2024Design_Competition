{
 "cells": [
  {
   "cell_type": "markdown",
   "metadata": {},
   "source": [
    "将村数据，地块数据和户数据根据名词解释表格把列名转换成对应含义，方便肉眼初步熟悉和分析数据"
   ]
  },
  {
   "cell_type": "code",
   "execution_count": 1,
   "metadata": {},
   "outputs": [],
   "source": [
    "# 读取文件\n",
    "import pandas as pd\n",
    "\n",
    "village_name_data = pd.read_excel(r\"C:\\Users\\12045\\Desktop\\2020-2022年中国江苏省土地经济调查统计数据集\\数据名称解释.xlsx\",sheet_name=\"村数据\")\n",
    "ground_and_hu_data = pd.read_excel(r\"C:\\Users\\12045\\Desktop\\2020-2022年中国江苏省土地经济调查统计数据集\\数据名称解释.xlsx\",sheet_name=\"地块数据及户数据\")\n",
    "\n",
    "hu_data = pd.read_excel(r\"C:\\Users\\12045\\Desktop\\2020-2022年中国江苏省土地经济调查统计数据集\\原始数据\\户数据（原始数据）.xlsx\")\n",
    "ground_data = pd.read_excel(r\"C:\\Users\\12045\\Desktop\\2020-2022年中国江苏省土地经济调查统计数据集\\原始数据\\地块数据（原始数据）.xlsx\")\n",
    "village_data = pd.read_excel(r\"C:\\Users\\12045\\Desktop\\2020-2022年中国江苏省土地经济调查统计数据集\\原始数据\\村数据（原始数据）.xlsx\")\n"
   ]
  },
  {
   "cell_type": "code",
   "execution_count": 2,
   "metadata": {},
   "outputs": [],
   "source": [
    "# 替换三个文件的列名\n",
    "# 户数据\n",
    "for column in hu_data.columns:\n",
    "    if column in ground_and_hu_data['变量'].values:\n",
    "        definition = ground_and_hu_data.loc[ground_and_hu_data['变量'] == column, '定义'].values[0]\n",
    "        hu_data.rename(columns={column: definition}, inplace=True)\n",
    "# 地块数据       \n",
    "for column in ground_data.columns:\n",
    "    if column in ground_and_hu_data['变量'].values:\n",
    "        definition = ground_and_hu_data.loc[ground_and_hu_data['变量'] == column, '定义'].values[0]\n",
    "        ground_data.rename(columns={column: definition}, inplace=True)\n",
    "# 村数据        \n",
    "for column in village_data.columns:\n",
    "    if column in village_name_data['变量名'].values:\n",
    "        definition = village_name_data.loc[village_name_data['变量名'] == column, '定义'].values[0]\n",
    "        village_data.rename(columns={column: definition}, inplace=True)"
   ]
  },
  {
   "cell_type": "code",
   "execution_count": 6,
   "metadata": {},
   "outputs": [],
   "source": [
    "# 输出为新文件\n",
    "hu_data.to_excel(r\"C:\\Users\\12045\\Desktop\\2020-2022年中国江苏省土地经济调查统计数据集\\户数据.xlsx\", index=False)\n",
    "ground_data.to_excel(r\"C:\\Users\\12045\\Desktop\\2020-2022年中国江苏省土地经济调查统计数据集\\地块数据.xlsx\", index=False)\n",
    "village_data.to_excel(r\"C:\\Users\\12045\\Desktop\\2020-2022年中国江苏省土地经济调查统计数据集\\村数据.xlsx\", index=False)"
   ]
  }
 ],
 "metadata": {
  "kernelspec": {
   "display_name": "Python 3",
   "language": "python",
   "name": "python3"
  },
  "language_info": {
   "codemirror_mode": {
    "name": "ipython",
    "version": 3
   },
   "file_extension": ".py",
   "mimetype": "text/x-python",
   "name": "python",
   "nbconvert_exporter": "python",
   "pygments_lexer": "ipython3",
   "version": "3.11.7"
  }
 },
 "nbformat": 4,
 "nbformat_minor": 2
}
